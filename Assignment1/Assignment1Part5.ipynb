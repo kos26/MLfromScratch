{
 "cells": [
  {
   "cell_type": "code",
   "execution_count": 1,
   "metadata": {},
   "outputs": [],
   "source": [
    "import numpy as np\n",
    "import pandas as pd\n",
    "import matplotlib.pyplot as plt"
   ]
  },
  {
   "cell_type": "code",
   "execution_count": 2,
   "metadata": {},
   "outputs": [],
   "source": [
    "fishLength = pd.read_csv('./Downloads/x06Simple(1).csv')"
   ]
  },
  {
   "cell_type": "code",
   "execution_count": null,
   "metadata": {},
   "outputs": [],
   "source": []
  },
  {
   "cell_type": "code",
   "execution_count": null,
   "metadata": {},
   "outputs": [],
   "source": []
  },
  {
   "cell_type": "code",
   "execution_count": 3,
   "metadata": {},
   "outputs": [],
   "source": [
    "def trainTestSplit(data, ratio):\n",
    "    np.random.seed(0)\n",
    "    shuffledIndices = np.random.permutation(len(data))\n",
    "    testSize = int(len(data)*ratio)\n",
    "    testIndices = shuffledIndices[:testSize]\n",
    "    trainIndices = shuffledIndices[testSize:]\n",
    "    return data.iloc[trainIndices], data.iloc[testIndices]\n",
    "\n",
    "trainingData, testingData = trainTestSplit(fishLength, 0.33)"
   ]
  },
  {
   "cell_type": "code",
   "execution_count": 4,
   "metadata": {},
   "outputs": [
    {
     "data": {
      "text/plain": [
       "30"
      ]
     },
     "execution_count": 4,
     "metadata": {},
     "output_type": "execute_result"
    }
   ],
   "source": [
    "len(trainingData)"
   ]
  },
  {
   "cell_type": "code",
   "execution_count": 5,
   "metadata": {},
   "outputs": [
    {
     "data": {
      "text/plain": [
       "14"
      ]
     },
     "execution_count": 5,
     "metadata": {},
     "output_type": "execute_result"
    }
   ],
   "source": [
    "len(testingData)"
   ]
  },
  {
   "cell_type": "code",
   "execution_count": 6,
   "metadata": {},
   "outputs": [],
   "source": [
    "x1 = trainingData[\"Age\"]\n",
    "xt1 = testingData[\"Age\"]\n",
    "x2 = trainingData[\"Temp of Water\"]\n",
    "xt2 = testingData[\"Temp of Water\"]\n",
    "y = trainingData[\"Length of Fish\"]\n",
    "yTest = testingData[\"Length of Fish\"]"
   ]
  },
  {
   "cell_type": "code",
   "execution_count": 34,
   "metadata": {},
   "outputs": [
    {
     "data": {
      "text/plain": [
       "array([[3214],\n",
       "       [4495],\n",
       "       [3255],\n",
       "       [ 590],\n",
       "       [4015],\n",
       "       [3040],\n",
       "       [4530],\n",
       "       [2110],\n",
       "       [3535],\n",
       "       [4315],\n",
       "       [4566],\n",
       "       [2805],\n",
       "       [1915],\n",
       "       [4465],\n",
       "       [1205],\n",
       "       [1315],\n",
       "       [3920],\n",
       "       [1215],\n",
       "       [ 590],\n",
       "       [2140],\n",
       "       [3935],\n",
       "       [1305],\n",
       "       [2140],\n",
       "       [4600],\n",
       "       [4535],\n",
       "       [4570],\n",
       "       [3030],\n",
       "       [3257],\n",
       "       [2600],\n",
       "       [ 620]])"
      ]
     },
     "execution_count": 34,
     "metadata": {},
     "output_type": "execute_result"
    }
   ],
   "source": [
    "yTest1 = np.array(y)\n",
    "yTest1 = np.array([y])\n",
    "Y = yTest1.T\n",
    "Y"
   ]
  },
  {
   "cell_type": "code",
   "execution_count": null,
   "metadata": {},
   "outputs": [],
   "source": []
  },
  {
   "cell_type": "code",
   "execution_count": 8,
   "metadata": {},
   "outputs": [
    {
     "name": "stdout",
     "output_type": "stream",
     "text": [
      "[78.56666667 27.86666667] [45.96451655  2.33021138] [93.07142857 28.28571429] [41.10112161  2.16363552]\n"
     ]
    }
   ],
   "source": [
    "x = np.array([x1, x2])\n",
    "xt = np.array([xt1, xt2])\n",
    "mean = np.mean(x, axis = 1)\n",
    "std = np.std(x, axis = 1, ddof = 1)\n",
    "meanT = np.mean(xt, axis = 1)\n",
    "stdT = np.std(xt, axis = 1, ddof = 1)\n",
    "print(mean, std, meanT, stdT)"
   ]
  },
  {
   "cell_type": "code",
   "execution_count": 9,
   "metadata": {},
   "outputs": [],
   "source": [
    "xT, xtT = x.T, xt.T"
   ]
  },
  {
   "cell_type": "code",
   "execution_count": null,
   "metadata": {},
   "outputs": [],
   "source": []
  },
  {
   "cell_type": "code",
   "execution_count": 10,
   "metadata": {},
   "outputs": [],
   "source": [
    "normX , normXT= (xT-mean)/std, (xtT-meanT)/stdT"
   ]
  },
  {
   "cell_type": "code",
   "execution_count": 11,
   "metadata": {},
   "outputs": [],
   "source": [
    "normXTrans, normXTTrans = normX.T, normXT.T\n",
    "nX0, nX1, nXT0, nXT1 = normXTrans[0], normXTrans[1], normXTTrans[0], normXTTrans[1]\n",
    "\n",
    "    \n"
   ]
  },
  {
   "cell_type": "code",
   "execution_count": 38,
   "metadata": {},
   "outputs": [
    {
     "data": {
      "text/plain": [
       "array([[ 1.25441407],\n",
       "       [ 1.41910204],\n",
       "       [-0.74385608]])"
      ]
     },
     "execution_count": 38,
     "metadata": {},
     "output_type": "execute_result"
    }
   ],
   "source": [
    "eta = 0.01\n",
    "max_iterations = 1000\n",
    "m = 100\n",
    "theta = np.random.randn(3,1)\n",
    "theta"
   ]
  },
  {
   "cell_type": "code",
   "execution_count": 51,
   "metadata": {},
   "outputs": [
    {
     "data": {
      "text/plain": [
       "1000"
      ]
     },
     "execution_count": 51,
     "metadata": {},
     "output_type": "execute_result"
    }
   ],
   "source": [
    "\n",
    "xNew = np.c_[np.ones((30,1)), nX0, nX1]\n",
    "xNewTest = np.c_[np.ones((14,1)), nXT0, nXT1]\n",
    "count = 0\n",
    "for iterations in range(max_iterations):\n",
    "    gradients = 2/m * xNew.T.dot(xNew.dot(theta) - Y)\n",
    "    theta = theta - eta * gradients\n",
    "    count = count + 1\n",
    "theta\n",
    "count"
   ]
  },
  {
   "cell_type": "code",
   "execution_count": 45,
   "metadata": {},
   "outputs": [],
   "source": [
    "yHat = xNew.dot(theta)\n",
    "yH = (Y - yHat)"
   ]
  },
  {
   "cell_type": "code",
   "execution_count": 46,
   "metadata": {},
   "outputs": [
    {
     "data": {
      "text/plain": [
       "array([[552.27752277]])"
      ]
     },
     "execution_count": 46,
     "metadata": {},
     "output_type": "execute_result"
    }
   ],
   "source": [
    "mse = (yH.T.dot(yH))/ len(Y)\n",
    "rmse = np.sqrt(mse)\n",
    "rmse"
   ]
  },
  {
   "cell_type": "code",
   "execution_count": null,
   "metadata": {},
   "outputs": [],
   "source": []
  },
  {
   "cell_type": "code",
   "execution_count": 56,
   "metadata": {},
   "outputs": [
    {
     "data": {
      "text/plain": [
       "array([[4525],\n",
       "       [2710],\n",
       "       [3920],\n",
       "       [3110],\n",
       "       [4600],\n",
       "       [2890],\n",
       "       [4515],\n",
       "       [ 625],\n",
       "       [3020],\n",
       "       [4565],\n",
       "       [4520],\n",
       "       [4600],\n",
       "       [3180],\n",
       "       [2120]])"
      ]
     },
     "execution_count": 56,
     "metadata": {},
     "output_type": "execute_result"
    }
   ],
   "source": [
    "yTest1 = np.array([yTest])\n",
    "yTest11 = yTest1.T\n",
    "yTest11"
   ]
  },
  {
   "cell_type": "code",
   "execution_count": 58,
   "metadata": {},
   "outputs": [],
   "source": [
    "yHatT = xNewTest.dot(theta)\n",
    "yHT = (yTest11 - yHatT)"
   ]
  },
  {
   "cell_type": "code",
   "execution_count": 60,
   "metadata": {},
   "outputs": [
    {
     "data": {
      "text/plain": [
       "array([[855.18631737]])"
      ]
     },
     "execution_count": 60,
     "metadata": {},
     "output_type": "execute_result"
    }
   ],
   "source": [
    "mseT = (yHT.T.dot(yHT))/ len(yTest11)\n",
    "rmseT = np.sqrt(mseT)\n",
    "rmseT"
   ]
  },
  {
   "cell_type": "code",
   "execution_count": null,
   "metadata": {},
   "outputs": [],
   "source": []
  },
  {
   "cell_type": "code",
   "execution_count": null,
   "metadata": {},
   "outputs": [],
   "source": []
  },
  {
   "cell_type": "code",
   "execution_count": null,
   "metadata": {},
   "outputs": [],
   "source": []
  },
  {
   "cell_type": "code",
   "execution_count": null,
   "metadata": {},
   "outputs": [],
   "source": []
  },
  {
   "cell_type": "code",
   "execution_count": null,
   "metadata": {},
   "outputs": [],
   "source": []
  },
  {
   "cell_type": "code",
   "execution_count": null,
   "metadata": {},
   "outputs": [],
   "source": []
  },
  {
   "cell_type": "code",
   "execution_count": null,
   "metadata": {},
   "outputs": [],
   "source": []
  },
  {
   "cell_type": "code",
   "execution_count": null,
   "metadata": {},
   "outputs": [],
   "source": []
  },
  {
   "cell_type": "code",
   "execution_count": null,
   "metadata": {},
   "outputs": [],
   "source": []
  },
  {
   "cell_type": "code",
   "execution_count": null,
   "metadata": {},
   "outputs": [],
   "source": []
  },
  {
   "cell_type": "code",
   "execution_count": null,
   "metadata": {},
   "outputs": [],
   "source": []
  },
  {
   "cell_type": "code",
   "execution_count": null,
   "metadata": {},
   "outputs": [],
   "source": []
  },
  {
   "cell_type": "code",
   "execution_count": null,
   "metadata": {},
   "outputs": [],
   "source": []
  },
  {
   "cell_type": "code",
   "execution_count": null,
   "metadata": {},
   "outputs": [],
   "source": []
  },
  {
   "cell_type": "code",
   "execution_count": null,
   "metadata": {},
   "outputs": [],
   "source": []
  },
  {
   "cell_type": "code",
   "execution_count": null,
   "metadata": {},
   "outputs": [],
   "source": []
  },
  {
   "cell_type": "code",
   "execution_count": null,
   "metadata": {},
   "outputs": [],
   "source": []
  },
  {
   "cell_type": "code",
   "execution_count": null,
   "metadata": {},
   "outputs": [],
   "source": []
  }
 ],
 "metadata": {
  "kernelspec": {
   "display_name": "Python 3",
   "language": "python",
   "name": "python3"
  },
  "language_info": {
   "codemirror_mode": {
    "name": "ipython",
    "version": 3
   },
   "file_extension": ".py",
   "mimetype": "text/x-python",
   "name": "python",
   "nbconvert_exporter": "python",
   "pygments_lexer": "ipython3",
   "version": "3.7.4"
  }
 },
 "nbformat": 4,
 "nbformat_minor": 2
}
