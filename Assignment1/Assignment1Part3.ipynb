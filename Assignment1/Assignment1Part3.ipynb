{
 "cells": [
  {
   "cell_type": "code",
   "execution_count": null,
   "metadata": {},
   "outputs": [],
   "source": [
    "import numpy as np\n",
    "import pandas as pd\n",
    "import matplotlib.pyplot as plt\n",
    "from sklearn.model_selection import KFold\n",
    "\n",
    "fishLength = pd.read_csv('./Downloads/x06Simple(1).csv')\n",
    "\n",
    "x1 = fishLength[\"Age\"]\n",
    "x2 = fishLength[\"Temp of Water\"]\n",
    "y = fishLength[\"Length of Fish\"]\n",
    "\n",
    "score = []\n",
    "seed = 0\n",
    "\n",
    "while (seed < 20):\n",
    "    \n",
    "    kf = KFold(n_splits = 3, shuffle = True, random_state = seed)\n",
    "    for train_index, test_index in kf.split(fishLength):\n",
    "        #print(\"TRAIN:\", train_index, \"TEST:\", test_index)\n",
    "        X1_train, X1_test = x1[train_index], x1[test_index]\n",
    "        X2Train, X2Test = x2[train_index], x2[test_index]\n",
    "        y1_train, y1_test = y[train_index], y[test_index]\n",
    "        x = np.array([X1_train, X2_train])\n",
    "        xt = np.array([X2Train, X2Test])\n",
    "        mean = np.mean(x, axis = 1)\n",
    "        std = np.std(x, axis = 1, ddof = 1)\n",
    "        meanT = np.mean(xt, axis = 1)\n",
    "        stdT = np.std(xt, axis = 1, ddof = 1)\n",
    "        xT = x.T\n",
    "        xtT = xt.T\n",
    "        normX = (xT-mean)/std\n",
    "        normXT= (xtT-meanT)/stdT\n",
    "        normXTrans = normX.T\n",
    "        normXTTrans = normXT.T\n",
    "        nX0, nX1 = normXTrans[0], normXTrans[1]\n",
    "        nXT0, nXT1 = normXTTrans[0], normXTTrans[1]\n",
    "        xNew = np.c_[np.ones((len(X1_train),1)), nX0, nX1]\n",
    "        xNewTest = np.c_[np.ones((len(X1_test),1)), nXT0, nXT1]\n",
    "        theta = np.linalg.inv((xNew.T).dot(xNew)).dot(xNew.T).dot(y1_train)\n",
    "        yHat = xNewTest.dot(theta)\n",
    "        yH = y1_test - yHat\n",
    "        mse = (yH.T.dot(yH))/ len(y1_test)\n",
    "        rmse = np.sqrt(mse)\n",
    "        rmse\n",
    "        score.append(rmse)      \n",
    "    seed = seed + 1\n",
    "    \n",
    "print(score)\n",
    "print(len(score))\n",
    "print(np.mean(score))\n",
    "print(np.std(score))\n",
    "print(theta)\n",
    "print(mean, std, meanT, stdT)\n",
    "print(x1[test_index])\n",
    "    \n",
    "\n",
    "\n",
    "   "
   ]
  },
  {
   "cell_type": "markdown",
   "metadata": {},
   "source": [
    "import numpy as np\n",
    "import pandas as pd\n",
    "import matplotlib.pyplot as plt\n",
    "from sklearn.model_selection import KFold\n",
    "\n",
    "fishLength = pd.read_csv('./Downloads/x06Simple(1).csv')\n",
    "\n",
    "x1 = fishLength[\"Age\"]\n",
    "x2 = fishLength[\"Temp of Water\"]\n",
    "y = fishLength[\"Length of Fish\"]"
   ]
  },
  {
   "cell_type": "code",
   "execution_count": null,
   "metadata": {},
   "outputs": [],
   "source": [
    "  "
   ]
  },
  {
   "cell_type": "code",
   "execution_count": null,
   "metadata": {},
   "outputs": [],
   "source": []
  }
 ],
 "metadata": {
  "kernelspec": {
   "display_name": "Python 3",
   "language": "python",
   "name": "python3"
  },
  "language_info": {
   "codemirror_mode": {
    "name": "ipython",
    "version": 3
   },
   "file_extension": ".py",
   "mimetype": "text/x-python",
   "name": "python",
   "nbconvert_exporter": "python",
   "pygments_lexer": "ipython3",
   "version": "3.7.4"
  }
 },
 "nbformat": 4,
 "nbformat_minor": 2
}
