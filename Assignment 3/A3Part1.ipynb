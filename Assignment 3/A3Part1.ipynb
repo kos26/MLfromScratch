{
 "cells": [
  {
   "cell_type": "code",
   "execution_count": 1,
   "metadata": {},
   "outputs": [],
   "source": [
    "import numpy as np"
   ]
  },
  {
   "cell_type": "code",
   "execution_count": null,
   "metadata": {},
   "outputs": [],
   "source": []
  },
  {
   "cell_type": "code",
   "execution_count": 2,
   "metadata": {},
   "outputs": [
    {
     "name": "stdout",
     "output_type": "stream",
     "text": [
      "[[-2, 1], [-5, -4], [-3, 1], [0, 3], [-8, 11], [-2, 5], [1, 0], [5, -1], [-1, -3], [6, 1]]\n"
     ]
    }
   ],
   "source": [
    "x = [[-2,1],[-5,-4],[-3,1],[0,3],[-8,11],[-2,5],[1,0],[5,-1],[-1,-3],[6,1]]\n",
    "print(x)"
   ]
  },
  {
   "cell_type": "code",
   "execution_count": 3,
   "metadata": {},
   "outputs": [
    {
     "data": {
      "text/plain": [
       "(10, 2)"
      ]
     },
     "execution_count": 3,
     "metadata": {},
     "output_type": "execute_result"
    }
   ],
   "source": [
    "x = np.array(x)\n",
    "x.shape"
   ]
  },
  {
   "cell_type": "code",
   "execution_count": 4,
   "metadata": {},
   "outputs": [
    {
     "data": {
      "text/plain": [
       "array([-0.9,  1.4])"
      ]
     },
     "execution_count": 4,
     "metadata": {},
     "output_type": "execute_result"
    }
   ],
   "source": [
    "x_mean = np.mean(x, axis = 0)\n",
    "x_mean"
   ]
  },
  {
   "cell_type": "code",
   "execution_count": 5,
   "metadata": {},
   "outputs": [
    {
     "data": {
      "text/plain": [
       "array([4.22821213, 4.27395211])"
      ]
     },
     "execution_count": 5,
     "metadata": {},
     "output_type": "execute_result"
    }
   ],
   "source": [
    "x_std = np.std(x, axis = 0, ddof = 1)\n",
    "x_std"
   ]
  },
  {
   "cell_type": "code",
   "execution_count": 6,
   "metadata": {},
   "outputs": [
    {
     "data": {
      "text/plain": [
       "(10, 2)"
      ]
     },
     "execution_count": 6,
     "metadata": {},
     "output_type": "execute_result"
    }
   ],
   "source": [
    "x_stand = (x-x_mean)/ x_std\n",
    "x_stand.shape"
   ]
  },
  {
   "cell_type": "code",
   "execution_count": 7,
   "metadata": {},
   "outputs": [
    {
     "name": "stdout",
     "output_type": "stream",
     "text": [
      "[[-0.1        -1.36743596]\n",
      " [-1.36743596 -0.1       ]]\n"
     ]
    }
   ],
   "source": [
    "cov_x = (x_stand.T @ x_stand)/10-1\n",
    "print(cov_x)"
   ]
  },
  {
   "cell_type": "code",
   "execution_count": 8,
   "metadata": {},
   "outputs": [
    {
     "name": "stdout",
     "output_type": "stream",
     "text": [
      "[3.56010669 2.3077349 ]\n",
      "[[ 0.70710678 -0.70710678]\n",
      " [ 0.70710678  0.70710678]]\n"
     ]
    }
   ],
   "source": [
    "u,e,v  = np.linalg.svd(x_stand)\n",
    "print(e)\n",
    "print(v)"
   ]
  },
  {
   "cell_type": "code",
   "execution_count": 18,
   "metadata": {},
   "outputs": [
    {
     "name": "stdout",
     "output_type": "stream",
     "text": [
      "[ 1.26743596 -1.46743596]\n",
      "[[ 0.70710678 -0.70710678]\n",
      " [ 0.70710678  0.70710678]]\n"
     ]
    }
   ],
   "source": [
    "e,v  = np.linalg.eig(cov_x)\n",
    "print(e)\n",
    "print(v.T)"
   ]
  },
  {
   "cell_type": "code",
   "execution_count": 29,
   "metadata": {},
   "outputs": [
    {
     "data": {
      "text/plain": [
       "array([[ 0.70710678],\n",
       "       [-0.70710678]])"
      ]
     },
     "execution_count": 29,
     "metadata": {},
     "output_type": "execute_result"
    }
   ],
   "source": [
    "v_t = np.array([[0.70710678], [-0.70710678]])\n",
    "v_t"
   ]
  },
  {
   "cell_type": "code",
   "execution_count": 30,
   "metadata": {},
   "outputs": [
    {
     "data": {
      "text/plain": [
       "array([[-0.11778069],\n",
       "       [ 0.20774133],\n",
       "       [-0.2850161 ],\n",
       "       [-0.11420117],\n",
       "       [-2.77564962],\n",
       "       [-0.77956328],\n",
       "       [ 0.54937118],\n",
       "       [ 1.38375846],\n",
       "       [ 0.71123731],\n",
       "       [ 1.22010257]])"
      ]
     },
     "execution_count": 30,
     "metadata": {},
     "output_type": "execute_result"
    }
   ],
   "source": [
    "z = x_stand @ v_t\n",
    "z"
   ]
  },
  {
   "cell_type": "markdown",
   "metadata": {},
   "source": [
    "#Part 2 LDA"
   ]
  },
  {
   "cell_type": "code",
   "execution_count": 31,
   "metadata": {},
   "outputs": [
    {
     "data": {
      "text/plain": [
       "(array([[-2,  1],\n",
       "        [-5, -4],\n",
       "        [-3,  1],\n",
       "        [ 0,  3],\n",
       "        [-8, 11]]), array([[-2,  5],\n",
       "        [ 1,  0],\n",
       "        [ 5, -1],\n",
       "        [-1, -3],\n",
       "        [ 6,  1]]))"
      ]
     },
     "execution_count": 31,
     "metadata": {},
     "output_type": "execute_result"
    }
   ],
   "source": [
    "class1 = np.array([[-2,1], [-5,-4], [-3,1], [0,3], [-8,11]])\n",
    "class2 = np.array([[-2,5], [1,0], [5,-1], [-1,-3], [6,1]])\n",
    "class1, class2"
   ]
  },
  {
   "cell_type": "code",
   "execution_count": 33,
   "metadata": {},
   "outputs": [
    {
     "data": {
      "text/plain": [
       "(array([-3.6,  2.4]), array([1.8, 0.4]))"
      ]
     },
     "execution_count": 33,
     "metadata": {},
     "output_type": "execute_result"
    }
   ],
   "source": [
    "class1_mean = np.mean(class1, axis = 0)\n",
    "class2_mean = np.mean(class2, axis = 0)\n",
    "class1_mean, class2_mean"
   ]
  },
  {
   "cell_type": "code",
   "execution_count": 34,
   "metadata": {},
   "outputs": [
    {
     "data": {
      "text/plain": [
       "(array([3.04959014, 5.45893763]), array([3.56370594, 2.96647939]))"
      ]
     },
     "execution_count": 34,
     "metadata": {},
     "output_type": "execute_result"
    }
   ],
   "source": [
    "class1_std = np.std(class1, axis = 0, ddof =1)\n",
    "class2_std = np.std(class2, axis = 0, ddof =1)\n",
    "class1_std, class2_std"
   ]
  },
  {
   "cell_type": "code",
   "execution_count": 35,
   "metadata": {},
   "outputs": [
    {
     "data": {
      "text/plain": [
       "(array([[-1.06630571,  1.55065968],\n",
       "        [-0.22448541, -0.13483997],\n",
       "        [ 0.89794165, -0.4719399 ],\n",
       "        [-0.78569895, -1.14613977],\n",
       "        [ 1.17854842,  0.20225996]]), array([[ 0.52466067, -0.25646016],\n",
       "        [-0.45907809, -1.17238929],\n",
       "        [ 0.19674775, -0.25646016],\n",
       "        [ 1.1804865 ,  0.1099115 ],\n",
       "        [-1.44281684,  1.57539811]]))"
      ]
     },
     "execution_count": 35,
     "metadata": {},
     "output_type": "execute_result"
    }
   ],
   "source": [
    "class1_stand = (class1 - class1_mean)/ class1_std\n",
    "class2_stand = (class2 - class2_mean)/ class2_std\n",
    "class2_stand, class1_stand"
   ]
  },
  {
   "cell_type": "code",
   "execution_count": 36,
   "metadata": {},
   "outputs": [
    {
     "name": "stdout",
     "output_type": "stream",
     "text": [
      "[0. 0.]\n",
      "[0.00000000e+00 5.55111512e-18]\n",
      "[[16.         -7.16022466]\n",
      " [-7.16022466 16.        ]]\n",
      "[[16.         -3.63235283]\n",
      " [-3.63235283 16.        ]]\n"
     ]
    }
   ],
   "source": [
    "mean1 = np.mean(class1_stand, axis = 0) \n",
    "mean2 = np.mean(class2_stand, axis = 0)\n",
    "std1_square = (5-1) * (class1_stand.T @ class1_stand)\n",
    "std2_square = (5-1) * (class2_stand.T @ class2_stand)\n",
    "print(mean1)\n",
    "print(mean2)\n",
    "print(std1_square)\n",
    "print(std2_square)"
   ]
  },
  {
   "cell_type": "code",
   "execution_count": 37,
   "metadata": {},
   "outputs": [
    {
     "name": "stdout",
     "output_type": "stream",
     "text": [
      "[[ 32.        -10.7925775]\n",
      " [-10.7925775  32.       ]]\n",
      "[[0.03526092 0.01189238]\n",
      " [0.01189238 0.03526092]]\n",
      "[[ 0.00000000e+00]\n",
      " [-5.55111512e-18]]\n",
      "[ 0.00000000e+00 -5.55111512e-18]\n"
     ]
    }
   ],
   "source": [
    "sw = std1_square + std2_square\n",
    "sw_inverse = np.linalg.inv(sw)\n",
    "mean_diff = np.array([0, -(mean2[1])])\n",
    "mean_diff_transpose = np.array([[0], [-(mean2[1])]])\n",
    "print(sw)\n",
    "print(sw_inverse)\n",
    "print(mean_diff_transpose)\n",
    "print(mean_diff)"
   ]
  },
  {
   "cell_type": "code",
   "execution_count": 38,
   "metadata": {},
   "outputs": [
    {
     "data": {
      "text/plain": [
       "((2, 1), (2,))"
      ]
     },
     "execution_count": 38,
     "metadata": {},
     "output_type": "execute_result"
    }
   ],
   "source": [
    "mean_diff_transpose.shape, mean_diff.shape"
   ]
  },
  {
   "cell_type": "code",
   "execution_count": 39,
   "metadata": {},
   "outputs": [
    {
     "data": {
      "text/plain": [
       "array([[0.00000000e+00, 0.00000000e+00],\n",
       "       [0.00000000e+00, 3.08148791e-35]])"
      ]
     },
     "execution_count": 39,
     "metadata": {},
     "output_type": "execute_result"
    }
   ],
   "source": [
    "sb = mean_diff_transpose @ mean_diff_transpose.T\n",
    "sb"
   ]
  },
  {
   "cell_type": "code",
   "execution_count": 40,
   "metadata": {},
   "outputs": [
    {
     "name": "stdout",
     "output_type": "stream",
     "text": [
      "[0.000000e+00 1.086561e-36]\n",
      "[[1. 0.]\n",
      " [0. 1.]]\n"
     ]
    }
   ],
   "source": [
    "e2, v2 = np.linalg.eig(sw_inverse * sb)\n",
    "print(e2)\n",
    "print(v2)"
   ]
  },
  {
   "cell_type": "code",
   "execution_count": 41,
   "metadata": {},
   "outputs": [
    {
     "data": {
      "text/plain": [
       "(2, 1)"
      ]
     },
     "execution_count": 41,
     "metadata": {},
     "output_type": "execute_result"
    }
   ],
   "source": [
    "W1 = np.array([[0], [1]])\n",
    "W1.shape"
   ]
  },
  {
   "cell_type": "code",
   "execution_count": 43,
   "metadata": {},
   "outputs": [
    {
     "name": "stdout",
     "output_type": "stream",
     "text": [
      "[[-0.25646016]\n",
      " [-1.17238929]\n",
      " [-0.25646016]\n",
      " [ 0.1099115 ]\n",
      " [ 1.57539811]]\n"
     ]
    }
   ],
   "source": [
    "z1 = class1_stand @ W1\n",
    "print(z1)"
   ]
  },
  {
   "cell_type": "code",
   "execution_count": 44,
   "metadata": {},
   "outputs": [
    {
     "name": "stdout",
     "output_type": "stream",
     "text": [
      "[[ 1.55065968]\n",
      " [-0.13483997]\n",
      " [-0.4719399 ]\n",
      " [-1.14613977]\n",
      " [ 0.20225996]]\n"
     ]
    }
   ],
   "source": [
    "z2 = class2_stand @ W1\n",
    "print(z2)"
   ]
  },
  {
   "cell_type": "code",
   "execution_count": null,
   "metadata": {},
   "outputs": [],
   "source": []
  }
 ],
 "metadata": {
  "kernelspec": {
   "display_name": "Python 3",
   "language": "python",
   "name": "python3"
  },
  "language_info": {
   "codemirror_mode": {
    "name": "ipython",
    "version": 3
   },
   "file_extension": ".py",
   "mimetype": "text/x-python",
   "name": "python",
   "nbconvert_exporter": "python",
   "pygments_lexer": "ipython3",
   "version": "3.7.4"
  }
 },
 "nbformat": 4,
 "nbformat_minor": 2
}
