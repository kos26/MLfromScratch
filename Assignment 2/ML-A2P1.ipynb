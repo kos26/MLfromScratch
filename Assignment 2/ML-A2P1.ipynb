{
 "cells": [
  {
   "cell_type": "code",
   "execution_count": 1,
   "metadata": {},
   "outputs": [],
   "source": [
    "import numpy as np"
   ]
  },
  {
   "cell_type": "code",
   "execution_count": 14,
   "metadata": {},
   "outputs": [
    {
     "data": {
      "text/plain": [
       "1.0"
      ]
     },
     "execution_count": 14,
     "metadata": {},
     "output_type": "execute_result"
    }
   ],
   "source": [
    "Pv1, Pv2 = 0.5, 0.5\n",
    "entropyY = -((1/2)*(np.log2(Pv1))) + (-(1/2)*(np.log2(Pv2)))\n",
    "entropyY"
   ]
  },
  {
   "cell_type": "code",
   "execution_count": 16,
   "metadata": {},
   "outputs": [
    {
     "data": {
      "text/plain": [
       "0.5"
      ]
     },
     "execution_count": 16,
     "metadata": {},
     "output_type": "execute_result"
    }
   ],
   "source": [
    "posT, posF, negT, negF = 2, 2, 2, 2\n",
    "eH1 = ((2+2)/(4+4))*(-((1/2)*(np.log2(1/2))) + (-(1/2)*(np.log2(1/2))))\n",
    "eH1"
   ]
  },
  {
   "cell_type": "code",
   "execution_count": 17,
   "metadata": {},
   "outputs": [
    {
     "data": {
      "text/plain": [
       "0.5"
      ]
     },
     "execution_count": 17,
     "metadata": {},
     "output_type": "execute_result"
    }
   ],
   "source": [
    "eH2 = ((2+2)/(4+4))*(-((1/2)*(np.log2(1/2))) + (-(1/2)*(np.log2(1/2))))\n",
    "eH2"
   ]
  },
  {
   "cell_type": "code",
   "execution_count": 24,
   "metadata": {},
   "outputs": [
    {
     "name": "stdout",
     "output_type": "stream",
     "text": [
      "0.0, 0.5, 0.5\n"
     ]
    }
   ],
   "source": [
    "iGY = (-((1/2)*(np.log2(Pv1))) + (-(1/2)*(np.log2(Pv2))))-entropyY\n",
    "iGeH1 = (-((1/2)*(np.log2(Pv1))) + (-(1/2)*(np.log2(Pv2))))-(eH1)\n",
    "iGeH2 = (-((1/2)*(np.log2(Pv1))) + (-(1/2)*(np.log2(Pv2))))-(eH2)\n",
    "print ('%.1f, %.1f, %.1f' %(iGY, iGeH1,iGeH2))"
   ]
  },
  {
   "cell_type": "code",
   "execution_count": 55,
   "metadata": {},
   "outputs": [
    {
     "name": "stdout",
     "output_type": "stream",
     "text": [
      "[213.66666667   4.09916667] [130.62414274   1.17921337]\n",
      "[[ 0.01786296  1.25578065]\n",
      " [-1.10750328  0.57736229]\n",
      " [ 0.67624048 -1.5172544 ]\n",
      " [-1.17640325 -0.79219477]\n",
      " [ 1.37289577  0.08550898]\n",
      " [ 0.21690732  0.39079724]]\n",
      "[[216.      5.58 ]\n",
      " [ 69.      4.78 ]\n",
      " [302.      2.31 ]\n",
      " [ 60.      3.165]\n",
      " [393.      4.2  ]\n",
      " [242.      4.56 ]]\n"
     ]
    }
   ],
   "source": [
    "x = np.array([[216, 5.58],[69, 4.78],[302, 2.31],[60, 3.165], [393, 4.2], [242, 4.56]])\n",
    "meanX = np.mean(x, axis = 0)\n",
    "stdX = np.std(x, axis = 0, ddof = 1)\n",
    "normX= (x-meanX)/stdX\n",
    "print(meanX, stdX)\n",
    "print(normX)\n",
    "print(x)"
   ]
  },
  {
   "cell_type": "code",
   "execution_count": 38,
   "metadata": {},
   "outputs": [
    {
     "name": "stdout",
     "output_type": "stream",
     "text": [
      "[-0.64042813  0.38742523] [0.60313349 0.95069098]\n",
      "[ 0.9606422  -0.58113784] [0.44311234 1.03278072]\n"
     ]
    }
   ],
   "source": [
    "yes = np.array([[0.05509059, 1.21559817],[-0.95719904, 0.59736642],[-1.01917595, -0.65068891]])\n",
    "no = np.array([[0.64731446, -1.31142409],[1.27396994, 0.14914841]])\n",
    "meanYes = np.mean(yes, axis = 0)\n",
    "meanNo = np.mean(no, axis = 0)\n",
    "stdYes = np.std(yes, axis = 0, ddof = 1)\n",
    "stdNo = np.std(no, axis = 0, ddof = 1)\n",
    "print(meanYes, stdYes)\n",
    "print(meanNo, stdNo)"
   ]
  },
  {
   "cell_type": "code",
   "execution_count": 56,
   "metadata": {},
   "outputs": [
    {
     "name": "stdout",
     "output_type": "stream",
     "text": [
      "0.24084333593237095 0.41963138199270966\n",
      "0.060639253140621144\n"
     ]
    }
   ],
   "source": [
    "pCh = (1/(stdYes[0] * np.sqrt(2 * np.pi))) * np.exp( - ((0.21690732 - meanYes[0])**2) / (2 * stdYes[0]**2) )\n",
    "pAv = (1/(stdYes[1] * np.sqrt(2 * np.pi))) * np.exp( - ((0.39079724 - meanYes[1])**2) / (2 * stdYes[1]**2) )\n",
    "yesCheck = (3/5)*pCh*pAv\n",
    "print(pCh, pAv)\n",
    "print(yesCheck)"
   ]
  },
  {
   "cell_type": "code",
   "execution_count": 57,
   "metadata": {},
   "outputs": [
    {
     "name": "stdout",
     "output_type": "stream",
     "text": [
      "0.22012115765348228 0.24807739769108364\n",
      "0.021842833586969857\n"
     ]
    }
   ],
   "source": [
    "pCh = (1/(stdNo[0] * np.sqrt(2 * np.pi))) * np.exp( - ((0.21690732 - meanNo[0])**2) / (2 * stdNo[0]**2) )\n",
    "pAv = (1/(stdNo[1] * np.sqrt(2 * np.pi))) * np.exp( - ((0.39079724 - meanNo[1])**2) / (2 * stdNo[1]**2) )\n",
    "noCheck = (2/5)*pCh*pAv\n",
    "print(pCh, pAv)\n",
    "print(noCheck)"
   ]
  },
  {
   "cell_type": "code",
   "execution_count": null,
   "metadata": {},
   "outputs": [],
   "source": []
  }
 ],
 "metadata": {
  "kernelspec": {
   "display_name": "Python 3",
   "language": "python",
   "name": "python3"
  },
  "language_info": {
   "codemirror_mode": {
    "name": "ipython",
    "version": 3
   },
   "file_extension": ".py",
   "mimetype": "text/x-python",
   "name": "python",
   "nbconvert_exporter": "python",
   "pygments_lexer": "ipython3",
   "version": "3.7.4"
  }
 },
 "nbformat": 4,
 "nbformat_minor": 2
}
