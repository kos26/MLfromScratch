{
 "cells": [
  {
   "cell_type": "code",
   "execution_count": 1,
   "metadata": {},
   "outputs": [],
   "source": [
    "import numpy as np\n",
    "import pandas as pd\n",
    "import matplotlib.pyplot as plt\n",
    "from sklearn.model_selection import train_test_split"
   ]
  },
  {
   "cell_type": "code",
   "execution_count": 2,
   "metadata": {},
   "outputs": [],
   "source": [
    "spambase = pd.read_csv('./Downloads/spambase(1).data')"
   ]
  },
  {
   "cell_type": "code",
   "execution_count": 3,
   "metadata": {},
   "outputs": [
    {
     "data": {
      "text/plain": [
       "(4601, 58)"
      ]
     },
     "execution_count": 3,
     "metadata": {},
     "output_type": "execute_result"
    }
   ],
   "source": [
    "spambase.shape"
   ]
  },
  {
   "cell_type": "code",
   "execution_count": 34,
   "metadata": {},
   "outputs": [
    {
     "data": {
      "text/plain": [
       "((4601, 57), (4601, 1))"
      ]
     },
     "execution_count": 34,
     "metadata": {},
     "output_type": "execute_result"
    }
   ],
   "source": [
    "x1 = spambase['1']\n",
    "x2 = spambase['2']\n",
    "x3 = spambase['3']\n",
    "x4 = spambase['4']\n",
    "x5 = spambase['5']\n",
    "x6 = spambase['6']\n",
    "x7 = spambase['7']\n",
    "x8 = spambase['8']\n",
    "x9 = spambase['9']\n",
    "x10 = spambase['10']\n",
    "x11 = spambase['11']\n",
    "x12 = spambase['12']\n",
    "x13 = spambase['13']\n",
    "x14 = spambase['14']\n",
    "x15 = spambase['15']\n",
    "x16 = spambase['16']\n",
    "x17 = spambase['17']\n",
    "x18 = spambase['18']\n",
    "x19 = spambase['19']\n",
    "x20 = spambase['20']\n",
    "x21 = spambase['21']\n",
    "x22 = spambase['22']\n",
    "x23 = spambase['23']\n",
    "x24 = spambase['24']\n",
    "x25 = spambase['25']\n",
    "x26 = spambase['26']\n",
    "x27 = spambase['27']\n",
    "x28 = spambase['28']\n",
    "x29 = spambase['29']\n",
    "x30 = spambase['30']\n",
    "x31 = spambase['31']\n",
    "x32 = spambase['32']\n",
    "x33 = spambase['33']\n",
    "x34 = spambase['34']\n",
    "x35 = spambase['35']\n",
    "x36 = spambase['36']\n",
    "x37 = spambase['37']\n",
    "x38 = spambase['38']\n",
    "x39 = spambase['39']\n",
    "x40 = spambase['40']\n",
    "x41 = spambase['41']\n",
    "x42 = spambase['42']\n",
    "x43 = spambase['43']\n",
    "x44 = spambase['44']\n",
    "x45 = spambase['45']\n",
    "x46 = spambase['46']\n",
    "x47 = spambase['47']\n",
    "x48 = spambase['48']\n",
    "x49 = spambase['49']\n",
    "x50 = spambase['50']\n",
    "x51 = spambase['51']\n",
    "x52 = spambase['52']\n",
    "x53 = spambase['53']\n",
    "x54 = spambase['54']\n",
    "x55 = spambase['55']\n",
    "x56 = spambase['56']\n",
    "x57 = spambase['57']\n",
    "Y = np.array([spambase['58']])\n",
    "X = np.array([x1,x2,x3,x4,x5,x6,x7,x8,x9,x10,x11,x12,x13,x14,x15,x16,x17,x18,x19,x20,x21,x22,x23,x24,x25,x26,x27,x28,x29,x30,x31,x32,x33,x34,x35,x36,x37,x38,x39,x40,x41,x42,x43,x44,x45,x46,x47,x48,x49,x50,x51,x52,x53,x54,x55,x56,x57])\n",
    "x = X.T\n",
    "y = Y.T\n",
    "x.shape,y.shape"
   ]
  },
  {
   "cell_type": "code",
   "execution_count": null,
   "metadata": {},
   "outputs": [],
   "source": []
  },
  {
   "cell_type": "code",
   "execution_count": 35,
   "metadata": {},
   "outputs": [],
   "source": [
    "X_train, X_test, y_train, y_test = train_test_split(x, y, test_size=0.33, random_state=0)"
   ]
  },
  {
   "cell_type": "code",
   "execution_count": 36,
   "metadata": {},
   "outputs": [
    {
     "data": {
      "text/plain": [
       "((3082, 57), (1519, 57), (3082, 1), (1519, 1))"
      ]
     },
     "execution_count": 36,
     "metadata": {},
     "output_type": "execute_result"
    }
   ],
   "source": [
    "X_train.shape, X_test.shape, y_train.shape, y_test.shape"
   ]
  },
  {
   "cell_type": "code",
   "execution_count": 37,
   "metadata": {},
   "outputs": [],
   "source": [
    "mean = np.mean(X_train, axis = 0)\n",
    "std = np.std(X_train, axis = 0, ddof = 1)\n",
    "meanT = np.mean(X_test, axis = 0)\n",
    "stdT = np.std(X_test, axis = 0, ddof = 1)"
   ]
  },
  {
   "cell_type": "code",
   "execution_count": 38,
   "metadata": {},
   "outputs": [],
   "source": [
    "normX , normXT= (X_train-mean)/std, (X_test-meanT)/stdT"
   ]
  },
  {
   "cell_type": "code",
   "execution_count": 42,
   "metadata": {},
   "outputs": [
    {
     "data": {
      "text/plain": [
       "array([[-0.29787054],\n",
       "       [-0.09329559],\n",
       "       [ 1.4259302 ],\n",
       "       [ 1.33607676],\n",
       "       [-0.14826915],\n",
       "       [ 0.94528354],\n",
       "       [ 0.06578327],\n",
       "       [ 1.12272294],\n",
       "       [-1.6958264 ],\n",
       "       [ 0.62224615],\n",
       "       [ 1.19351603],\n",
       "       [-0.04594862],\n",
       "       [-0.32026005],\n",
       "       [-0.03686972],\n",
       "       [ 1.46689062],\n",
       "       [ 0.31685732],\n",
       "       [-1.14935211],\n",
       "       [ 0.71892489],\n",
       "       [-0.35197925],\n",
       "       [ 0.61206391],\n",
       "       [ 0.03264754],\n",
       "       [-1.64148447],\n",
       "       [ 0.60721306],\n",
       "       [-1.73814006],\n",
       "       [-1.00700336],\n",
       "       [-0.25698683],\n",
       "       [-0.14193468],\n",
       "       [ 1.10047759],\n",
       "       [-0.48193538],\n",
       "       [-0.62002637],\n",
       "       [-0.36832446],\n",
       "       [ 0.40775945],\n",
       "       [-1.12434169],\n",
       "       [-0.4613173 ],\n",
       "       [-1.0698595 ],\n",
       "       [-1.28604919],\n",
       "       [-0.05040319],\n",
       "       [ 0.82971828],\n",
       "       [ 1.34006676],\n",
       "       [ 1.23726442],\n",
       "       [ 1.10081129],\n",
       "       [-0.77492085],\n",
       "       [-1.32780745],\n",
       "       [-0.81618216],\n",
       "       [-0.62555767],\n",
       "       [ 1.25699283],\n",
       "       [-0.24838517],\n",
       "       [ 1.39321364],\n",
       "       [ 0.22453022],\n",
       "       [ 1.18776609],\n",
       "       [-1.35693653],\n",
       "       [ 0.23886298],\n",
       "       [ 1.66654552],\n",
       "       [-0.25182153],\n",
       "       [-0.47016819],\n",
       "       [-0.62148556],\n",
       "       [-0.71719358],\n",
       "       [-0.01225019]])"
      ]
     },
     "execution_count": 42,
     "metadata": {},
     "output_type": "execute_result"
    }
   ],
   "source": [
    "eta = 0.01\n",
    "max_iterations = 1500\n",
    "m = 3082\n",
    "theta = np.random.randn(58,1)\n",
    "theta"
   ]
  },
  {
   "cell_type": "code",
   "execution_count": 43,
   "metadata": {},
   "outputs": [
    {
     "data": {
      "text/plain": [
       "((3082, 58), (3082, 1), (58, 1), (3082, 1), (3082, 1), (58, 1), (1519, 58))"
      ]
     },
     "execution_count": 43,
     "metadata": {},
     "output_type": "execute_result"
    }
   ],
   "source": [
    "xNew = np.c_[np.ones((3082,1)), normX]\n",
    "xNewTest = np.c_[np.ones((1519,1)), normXT]\n",
    "a = np.exp(-(xNew.dot(theta)))\n",
    "b = y_train-(1/(1+np.exp(-(xNew.dot(theta)))))\n",
    "c = xNew.T.dot(y_train-(1/(1+np.exp(-(xNew.dot(theta))))))\n",
    "xNew.shape, y_train.shape, theta.shape, a.shape, b.shape, c.shape, xNewTest.shape"
   ]
  },
  {
   "cell_type": "code",
   "execution_count": 54,
   "metadata": {},
   "outputs": [
    {
     "data": {
      "text/plain": [
       "(58, 1)"
      ]
     },
     "execution_count": 54,
     "metadata": {},
     "output_type": "execute_result"
    }
   ],
   "source": [
    "for iterations in range(max_iterations):\n",
    "    gradients = 1/m * xNew.T.dot(y_train-(1/(1+np.exp(-(xNew.dot(theta))))))\n",
    "    theta = theta + eta * gradients\n",
    "theta.shape"
   ]
  },
  {
   "cell_type": "code",
   "execution_count": 55,
   "metadata": {},
   "outputs": [],
   "source": [
    "yH = xNew.dot(theta)\n",
    "yHTest = xNewTest.dot(theta)"
   ]
  },
  {
   "cell_type": "code",
   "execution_count": 56,
   "metadata": {},
   "outputs": [
    {
     "data": {
      "text/plain": [
       "((1, 3082),\n",
       " (1, 3082),\n",
       " array([1, 0, 1, ..., 1, 0, 0]),\n",
       " array([1, 0, 1, ..., 1, 0, 0]),\n",
       " (1, 1519),\n",
       " (1, 1519),\n",
       " array([1, 0, 0, ..., 1, 0, 0]),\n",
       " array([1, 0, 0, ..., 0, 0, 0]))"
      ]
     },
     "execution_count": 56,
     "metadata": {},
     "output_type": "execute_result"
    }
   ],
   "source": [
    "def sigmoid(x):\n",
    "    return 1/(1+np.exp(-x))\n",
    "yHat = sigmoid(yH)\n",
    "yHatTest = sigmoid(yHTest)\n",
    "yHat_cls = []\n",
    "yHat_clsTest = []\n",
    "for i in range(yHat.size):\n",
    "    if yHat[i]<0.5:\n",
    "        yHat_cls.append(0)\n",
    "    else:\n",
    "        yHat_cls.append(1)\n",
    "yPred = np.array([yHat_cls])\n",
    "yT = y_train.T\n",
    "\n",
    "for i in range(yHatTest.size):\n",
    "    if yHatTest[i]<0.5:\n",
    "        yHat_clsTest.append(0)\n",
    "    else:\n",
    "        yHat_clsTest.append(1)\n",
    "yPredTest = np.array([yHat_clsTest])\n",
    "yTest = y_test.T\n",
    "yPred.shape, yT.shape, yT[0], yPred[0], yPredTest.shape, yTest.shape, yTest[0], yPredTest[0]"
   ]
  },
  {
   "cell_type": "code",
   "execution_count": 57,
   "metadata": {},
   "outputs": [
    {
     "data": {
      "text/plain": [
       "(961, 1654, 237, 230)"
      ]
     },
     "execution_count": 57,
     "metadata": {},
     "output_type": "execute_result"
    }
   ],
   "source": [
    "tp = 0\n",
    "tn = 0\n",
    "fp = 0\n",
    "fn = 0\n",
    "\n",
    "for i in range(yT.size):\n",
    "    if (yPred[0][i]==0 and yT[0][i] == 0):\n",
    "        tn = tn+1\n",
    "    elif (yPred[0][i]==1 and yT[0][i] == 1):\n",
    "        tp = tp+1\n",
    "    elif (yPred[0][i]==0 and yT[0][i] == 1):\n",
    "        fp = fp+1\n",
    "    elif (yPred[0][i]==1 and yT[0][i] == 0):\n",
    "        fn = fn+1\n",
    "tp, tn, fp, fn"
   ]
  },
  {
   "cell_type": "code",
   "execution_count": 58,
   "metadata": {},
   "outputs": [
    {
     "data": {
      "text/plain": [
       "(495, 787, 120, 117)"
      ]
     },
     "execution_count": 58,
     "metadata": {},
     "output_type": "execute_result"
    }
   ],
   "source": [
    "tpTest = 0\n",
    "tnTest = 0\n",
    "fpTest = 0\n",
    "fnTest = 0\n",
    "\n",
    "for i in range(yTest.size):\n",
    "    if (yPredTest[0][i]==0 and yTest[0][i] == 0):\n",
    "        tnTest = tnTest+1\n",
    "    elif (yPredTest[0][i]==1 and yTest[0][i] == 1):\n",
    "        tpTest = tpTest+1\n",
    "    elif (yPredTest[0][i]==0 and yTest[0][i] == 1):\n",
    "        fpTest = fpTest+1\n",
    "    elif (yPredTest[0][i]==1 and yTest[0][i] == 0):\n",
    "        fnTest = fnTest+1\n",
    "tpTest, tnTest, fpTest, fnTest"
   ]
  },
  {
   "cell_type": "code",
   "execution_count": 59,
   "metadata": {},
   "outputs": [],
   "source": [
    "accuracy = (tp+tn)/(tp+tn+fp+fn)\n",
    "accuracyTest = (tpTest+tnTest)/(tpTest+tnTest+fpTest+fnTest)"
   ]
  },
  {
   "cell_type": "code",
   "execution_count": 60,
   "metadata": {},
   "outputs": [],
   "source": [
    "recall = (tp)/(tp+fn)\n",
    "recallTest = (tpTest)/(tpTest+fnTest)"
   ]
  },
  {
   "cell_type": "code",
   "execution_count": 61,
   "metadata": {},
   "outputs": [],
   "source": [
    "precision = (tp)/(tp+fp)\n",
    "precisionTest = (tpTest)/(tpTest+fpTest)"
   ]
  },
  {
   "cell_type": "code",
   "execution_count": 62,
   "metadata": {},
   "outputs": [
    {
     "name": "stdout",
     "output_type": "stream",
     "text": [
      "0.8484750162232316 0.8068849706129303 0.8021702838063439 0.8045207199665132\n",
      "0.8439763001974984 0.8088235294117647 0.8048780487804879 0.8068459657701711\n"
     ]
    }
   ],
   "source": [
    "fMeasure = (2*recall*precision)/(recall+precision)\n",
    "fMeasureTest = (2*recallTest*precisionTest)/(recallTest+precisionTest)\n",
    "print(accuracy, recall, precision, fMeasure)\n",
    "print(accuracyTest, recallTest, precisionTest, fMeasureTest)"
   ]
  },
  {
   "cell_type": "code",
   "execution_count": 63,
   "metadata": {},
   "outputs": [
    {
     "name": "stderr",
     "output_type": "stream",
     "text": [
      "/opt/anaconda3/lib/python3.7/site-packages/sklearn/utils/validation.py:724: DataConversionWarning: A column-vector y was passed when a 1d array was expected. Please change the shape of y to (n_samples, ), for example using ravel().\n",
      "  y = column_or_1d(y, warn=True)\n"
     ]
    }
   ],
   "source": [
    "from sklearn.linear_model import LogisticRegression\n",
    "lgr = LogisticRegression(penalty='none', solver='lbfgs',max_iter=10000)\n",
    "lgr.fit(xNew,y_train)\n",
    "f = lgr.predict(xNewTest)"
   ]
  },
  {
   "cell_type": "code",
   "execution_count": 64,
   "metadata": {},
   "outputs": [
    {
     "data": {
      "text/plain": [
       "array([1, 0, 0, ..., 1, 0, 0])"
      ]
     },
     "execution_count": 64,
     "metadata": {},
     "output_type": "execute_result"
    }
   ],
   "source": [
    "f"
   ]
  },
  {
   "cell_type": "code",
   "execution_count": 65,
   "metadata": {},
   "outputs": [
    {
     "data": {
      "text/plain": [
       "array([[880,  24],\n",
       "       [147, 468]])"
      ]
     },
     "execution_count": 65,
     "metadata": {},
     "output_type": "execute_result"
    }
   ],
   "source": [
    "from sklearn.metrics import confusion_matrix\n",
    "al = confusion_matrix(y_test, f.T)\n",
    "al"
   ]
  },
  {
   "cell_type": "code",
   "execution_count": 66,
   "metadata": {},
   "outputs": [],
   "source": [
    "tn1 = al[0][0]\n",
    "tp1 = al[1][1]\n",
    "fn1 = al[1][0]\n",
    "fp1 = al[0][1]"
   ]
  },
  {
   "cell_type": "code",
   "execution_count": 67,
   "metadata": {},
   "outputs": [
    {
     "name": "stdout",
     "output_type": "stream",
     "text": [
      "0.8874259381171824 0.7609756097560976 0.9512195121951219 0.8455284552845528\n"
     ]
    }
   ],
   "source": [
    "accuracy1 = (tp1+tn1)/(tp1+tn1+fp1+fn1)\n",
    "recall1 = (tp1)/(tp1+fn1)\n",
    "precision1 = (tp1)/(tp1+fp1)\n",
    "fMeasure1 = (2*recall1*precision1)/(recall1+precision1)\n",
    "print(accuracy1, recall1, precision1, fMeasure1)"
   ]
  },
  {
   "cell_type": "code",
   "execution_count": null,
   "metadata": {},
   "outputs": [],
   "source": []
  }
 ],
 "metadata": {
  "kernelspec": {
   "display_name": "Python 3",
   "language": "python",
   "name": "python3"
  },
  "language_info": {
   "codemirror_mode": {
    "name": "ipython",
    "version": 3
   },
   "file_extension": ".py",
   "mimetype": "text/x-python",
   "name": "python",
   "nbconvert_exporter": "python",
   "pygments_lexer": "ipython3",
   "version": "3.7.4"
  }
 },
 "nbformat": 4,
 "nbformat_minor": 2
}
