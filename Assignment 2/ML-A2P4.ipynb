{
 "cells": [
  {
   "cell_type": "code",
   "execution_count": 1,
   "metadata": {},
   "outputs": [],
   "source": [
    "import numpy as np\n",
    "import pandas as pd\n",
    "import matplotlib.pyplot as plt\n",
    "from sklearn.model_selection import train_test_split"
   ]
  },
  {
   "cell_type": "code",
   "execution_count": 2,
   "metadata": {},
   "outputs": [],
   "source": [
    "spambase = pd.read_csv('./Downloads/spambase(1).data')"
   ]
  },
  {
   "cell_type": "code",
   "execution_count": 3,
   "metadata": {},
   "outputs": [
    {
     "data": {
      "text/plain": [
       "((4601, 57), (4601, 1), 4601, 2788, 1814)"
      ]
     },
     "execution_count": 3,
     "metadata": {},
     "output_type": "execute_result"
    }
   ],
   "source": [
    "x1 = spambase['1']\n",
    "x2 = spambase['2']\n",
    "x3 = spambase['3']\n",
    "x4 = spambase['4']\n",
    "x5 = spambase['5']\n",
    "x6 = spambase['6']\n",
    "x7 = spambase['7']\n",
    "x8 = spambase['8']\n",
    "x9 = spambase['9']\n",
    "x10 = spambase['10']\n",
    "x11 = spambase['11']\n",
    "x12 = spambase['12']\n",
    "x13 = spambase['13']\n",
    "x14 = spambase['14']\n",
    "x15 = spambase['15']\n",
    "x16 = spambase['16']\n",
    "x17 = spambase['17']\n",
    "x18 = spambase['18']\n",
    "x19 = spambase['19']\n",
    "x20 = spambase['20']\n",
    "x21 = spambase['21']\n",
    "x22 = spambase['22']\n",
    "x23 = spambase['23']\n",
    "x24 = spambase['24']\n",
    "x25 = spambase['25']\n",
    "x26 = spambase['26']\n",
    "x27 = spambase['27']\n",
    "x28 = spambase['28']\n",
    "x29 = spambase['29']\n",
    "x30 = spambase['30']\n",
    "x31 = spambase['31']\n",
    "x32 = spambase['32']\n",
    "x33 = spambase['33']\n",
    "x34 = spambase['34']\n",
    "x35 = spambase['35']\n",
    "x36 = spambase['36']\n",
    "x37 = spambase['37']\n",
    "x38 = spambase['38']\n",
    "x39 = spambase['39']\n",
    "x40 = spambase['40']\n",
    "x41 = spambase['41']\n",
    "x42 = spambase['42']\n",
    "x43 = spambase['43']\n",
    "x44 = spambase['44']\n",
    "x45 = spambase['45']\n",
    "x46 = spambase['46']\n",
    "x47 = spambase['47']\n",
    "x48 = spambase['48']\n",
    "x49 = spambase['49']\n",
    "x50 = spambase['50']\n",
    "x51 = spambase['51']\n",
    "x52 = spambase['52']\n",
    "x53 = spambase['53']\n",
    "x54 = spambase['54']\n",
    "x55 = spambase['55']\n",
    "x56 = spambase['56']\n",
    "x57 = spambase['57']\n",
    "Y = np.array([spambase['58']])\n",
    "X = np.array([x1,x2,x3,x4,x5,x6,x7,x8,x9,x10,x11,x12,x13,x14,x15,x16,x17,x18,x19,x20,x21,x22,x23,x24,x25,x26,x27,x28,x29,x30,x31,x32,x33,x34,x35,x36,x37,x38,x39,x40,x41,x42,x43,x44,x45,x46,x47,x48,x49,x50,x51,x52,x53,x54,x55,x56,x57])\n",
    "x = X.T\n",
    "y = Y.T\n",
    "count0 = 0\n",
    "count1 = 1\n",
    "for j in range(y.size):\n",
    "    if y[j] == 0:\n",
    "        count0 = count0+1\n",
    "    if y[j] == 1:\n",
    "        count1 = count1+1\n",
    "x.shape,y.shape, y.size, count0, count1"
   ]
  },
  {
   "cell_type": "code",
   "execution_count": 4,
   "metadata": {},
   "outputs": [],
   "source": [
    "X_train, X_test, y_train, y_test = train_test_split(x, y, test_size=0.33, random_state=0)"
   ]
  },
  {
   "cell_type": "code",
   "execution_count": 5,
   "metadata": {},
   "outputs": [
    {
     "data": {
      "text/plain": [
       "((3082, 57), (1519, 57), (3082, 1), (1519, 1), 1519, 57)"
      ]
     },
     "execution_count": 5,
     "metadata": {},
     "output_type": "execute_result"
    }
   ],
   "source": [
    "X_train.shape, X_test.shape, y_train.shape, y_test.shape, X_test.T[0].size, X_test[0].size"
   ]
  },
  {
   "cell_type": "code",
   "execution_count": 6,
   "metadata": {},
   "outputs": [],
   "source": [
    "mean = np.mean(X_train, axis = 0)\n",
    "std = np.std(X_train, axis = 0, ddof = 1)\n",
    "meanT = np.mean(X_test, axis = 0)\n",
    "stdT = np.std(X_test, axis = 0, ddof = 1)"
   ]
  },
  {
   "cell_type": "code",
   "execution_count": 7,
   "metadata": {},
   "outputs": [
    {
     "data": {
      "text/plain": [
       "((3082, 1), (3082, 57), (1519, 1), (1519, 57), -0.012952602858236354)"
      ]
     },
     "execution_count": 7,
     "metadata": {},
     "output_type": "execute_result"
    }
   ],
   "source": [
    "normX , normXT= (X_train-mean)/std, (X_test-meanT)/stdT\n",
    "y_train.shape, normX.shape, y_test.shape, normXT.shape, normXT[0][0]"
   ]
  },
  {
   "cell_type": "code",
   "execution_count": 23,
   "metadata": {},
   "outputs": [
    {
     "name": "stdout",
     "output_type": "stream",
     "text": [
      "[[-0.34123104 -0.16349749 -0.56090855 ... -0.12415108 -0.21882006\n",
      "  -0.37094954]\n",
      " [-0.34123104 -0.16349749  0.46028669 ... -0.0131194  -0.06712824\n",
      "  -0.08324997]\n",
      " [-0.34123104 -0.16349749 -0.56090855 ... -0.08153435 -0.19123973\n",
      "  -0.37720388]\n",
      " ...\n",
      " [-0.34123104  0.12720854 -0.56090855 ... -0.10287952 -0.17285284\n",
      "  -0.27244371]\n",
      " [-0.34123104 -0.16349749 -0.56090855 ... -0.11627545 -0.186643\n",
      "  -0.26775296]\n",
      " [-0.34123104 -0.16349749 -0.56090855 ... -0.10545566 -0.21882006\n",
      "  -0.43974726]]\n"
     ]
    },
    {
     "data": {
      "text/plain": [
       "((1884, 57), (1198, 57), -0.3412310399473486, None)"
      ]
     },
     "execution_count": 23,
     "metadata": {},
     "output_type": "execute_result"
    }
   ],
   "source": [
    "#split training data into spam and not spam\n",
    "xN0 = []\n",
    "xN1 = []\n",
    "for i in range(y_train.size):\n",
    "    if y_train[i] == 0:\n",
    "        xN0.append(normX[i])\n",
    "    else:\n",
    "        xN1.append(normX[i])\n",
    "xN0 = np.array(xN0)\n",
    "xN1 = np.array(xN1)\n",
    "\n",
    "xN0.shape, xN1.shape, xN0[0][0], print(xN0)"
   ]
  },
  {
   "cell_type": "code",
   "execution_count": 24,
   "metadata": {},
   "outputs": [
    {
     "name": "stdout",
     "output_type": "stream",
     "text": [
      "[-0.11333103  0.01208948 -0.1592601  -0.04697428 -0.19645629 -0.17451516\n",
      " -0.28719636 -0.15466181 -0.1852788  -0.09572727 -0.21467123 -0.01005132\n",
      " -0.1222805  -0.05271632 -0.16079441 -0.19517503 -0.20606025 -0.15805709\n",
      " -0.21772357 -0.13991047 -0.3345848  -0.07274748 -0.28117409 -0.16928081\n",
      "  0.20305268  0.18342403  0.14548208  0.12449557  0.10474132  0.13734724\n",
      "  0.09541615  0.08900774  0.09117907  0.08956327  0.10992352  0.09658784\n",
      "  0.14218053  0.02416832  0.08930687  0.04619342  0.08039407  0.11033798\n",
      "  0.10680498  0.07274217  0.10833013  0.12388728  0.03195378  0.06655982\n",
      "  0.05234006  0.05839596  0.05083622 -0.1853444  -0.2510877  -0.05318961\n",
      " -0.08241363 -0.15531015 -0.19740908]\n"
     ]
    },
    {
     "data": {
      "text/plain": [
       "((57,), (57,), (57,), (57,), 3.141592653589793, None)"
      ]
     },
     "execution_count": 24,
     "metadata": {},
     "output_type": "execute_result"
    }
   ],
   "source": [
    "mean0 = np.mean(xN0, axis = 0)\n",
    "std0 = np.std(xN0, axis = 0, ddof = 1)\n",
    "mean1 = np.mean(xN1, axis = 0)\n",
    "std1 = np.std(xN1, axis = 0, ddof = 1)\n",
    "\n",
    "mean0.shape, std0.shape, mean1.shape, std1.shape, np.pi, print(mean0)"
   ]
  },
  {
   "cell_type": "code",
   "execution_count": 65,
   "metadata": {},
   "outputs": [
    {
     "name": "stdout",
     "output_type": "stream",
     "text": [
      "0.6059552271245382 0.3942621169311019\n"
     ]
    }
   ],
   "source": [
    "pSpam = count0/y.size\n",
    "pNotSpam = count1/y.size\n",
    "print(pSpam, pNotSpam)"
   ]
  },
  {
   "cell_type": "code",
   "execution_count": 51,
   "metadata": {},
   "outputs": [
    {
     "data": {
      "text/plain": [
       "(0, 1519, 0, 1519)"
      ]
     },
     "execution_count": 51,
     "metadata": {},
     "output_type": "execute_result"
    }
   ],
   "source": [
    "\n",
    "e = []\n",
    "f = []\n",
    "for i in range(normXT.T[0].size):\n",
    "    for j in range(mean0.size):\n",
    "        a = 1/std0[j] * np.sqrt(2*np.pi)\n",
    "        b = ((normXT[i][j] - mean0[j])**2)/2*(std0[j])\n",
    "        c = np.exp(-b)\n",
    "        d = a * c\n",
    "        e.append(d)\n",
    "    f.append(e)\n",
    "    e = []\n",
    "    \n",
    "len(e), len(f)\n",
    "\n",
    "g = []\n",
    "h = []\n",
    "for i in range(normXT.T[0].size):\n",
    "    for j in range(mean1.size):\n",
    "        a = 1/std1[j] * np.sqrt(2*np.pi)\n",
    "        b = ((normXT[i][j] - mean1[j])**2)/2*(std1[j])\n",
    "        c = np.exp(-b)\n",
    "        d = a * c\n",
    "        g.append(d)\n",
    "    h.append(g)\n",
    "    g = []\n",
    "    \n",
    "len(e), len(f), len(g), len(h)\n",
    "    "
   ]
  },
  {
   "cell_type": "code",
   "execution_count": 52,
   "metadata": {},
   "outputs": [
    {
     "data": {
      "text/plain": [
       "((1519, 57), 2.5885736598756117, (1519, 57), 2.3880071072090487)"
      ]
     },
     "execution_count": 52,
     "metadata": {},
     "output_type": "execute_result"
    }
   ],
   "source": [
    "f = np.array(f)\n",
    "h = np.array(h)\n",
    "f.shape, f[0][0], h.shape, h[0][0]"
   ]
  },
  {
   "cell_type": "code",
   "execution_count": 119,
   "metadata": {},
   "outputs": [
    {
     "data": {
      "text/plain": [
       "((1519,), (1519,), 0.4986166343650313, 0.4793033703929196)"
      ]
     },
     "execution_count": 119,
     "metadata": {},
     "output_type": "execute_result"
    }
   ],
   "source": [
    "probT0 = []\n",
    "for l in range (1519):\n",
    "    for k in range(57):\n",
    "        probY0 = pNotSpam * f[l][k]\n",
    "    probT0.append(probY0)\n",
    "probT0 = np.array(probT0)\n",
    "\n",
    "probT1 = []\n",
    "for l in range (1519):\n",
    "    for k in range(57):\n",
    "        probY1 = h[l][k]*2.15\n",
    "    probT1.append(probY1)\n",
    "probT1 = np.array(probT1)\n",
    "probT0.shape, probT1.shape, probT0[0], probT1[0]"
   ]
  },
  {
   "cell_type": "code",
   "execution_count": 120,
   "metadata": {},
   "outputs": [
    {
     "name": "stdout",
     "output_type": "stream",
     "text": [
      "[0.49861663 1.81841772 1.8242102  ... 1.86133202 1.23468083 1.81787164]\n",
      "[0.47930337 2.42442347 2.48121517 ... 3.08590418 2.61981221 2.4192536 ]\n",
      "0.6059552271245382\n",
      "0.3942621169311019\n"
     ]
    }
   ],
   "source": [
    "print(probT0) \n",
    "print(probT1) \n",
    "print(pSpam)\n",
    "print(pNotSpam)"
   ]
  },
  {
   "cell_type": "code",
   "execution_count": 121,
   "metadata": {},
   "outputs": [
    {
     "name": "stdout",
     "output_type": "stream",
     "text": [
      "[0, 0, 0, 1, 0, 0, 0, 0, 1, 1, 1, 1, 0, 1, 0, 0, 0, 1, 1, 0, 1, 1, 0, 0, 0, 0, 0, 0, 0, 1, 0, 0, 1, 0, 1, 1, 0, 1, 0, 0, 1, 1, 0, 0, 0, 1, 0, 0, 0, 1, 0, 0, 0, 1, 1, 0, 1, 0, 0, 1, 0, 0, 1, 1, 1, 0, 1, 0, 1, 1, 1, 0, 1, 1, 1, 0, 1, 0, 0, 0, 1, 0, 1, 0, 1, 1, 0, 0, 0, 1, 1, 0, 0, 0, 0, 0, 0, 0, 0, 0, 1, 0, 0, 1, 0, 1, 1, 0, 1, 1, 1, 0, 1, 0, 0, 1, 0, 1, 0, 0, 0, 1, 0, 0, 0, 1, 0, 1, 0, 1, 1, 0, 1, 1, 1, 0, 1, 1, 1, 0, 0, 0, 0, 1, 0, 0, 1, 1, 1, 1, 0, 0, 1, 1, 0, 1, 0, 1, 0, 1, 1, 0, 0, 1, 1, 0, 1, 1, 0, 1, 0, 1, 0, 0, 1, 0, 0, 0, 0, 0, 0, 1, 1, 0, 0, 0, 1, 1, 1, 0, 0, 1, 0, 1, 1, 1, 1, 1, 0, 1, 1, 0, 0, 0, 0, 1, 1, 1, 1, 0, 0, 0, 1, 1, 0, 0, 1, 0, 0, 1, 1, 0, 0, 0, 0, 1, 0, 0, 0, 1, 0, 1, 1, 0, 0, 0, 0, 0, 0, 1, 1, 1, 0, 1, 0, 1, 1, 0, 0, 1, 1, 0, 0, 0, 1, 0, 1, 1, 1, 1, 1, 1, 1, 0, 0, 1, 0, 1, 0, 0, 1, 0, 1, 0, 1, 1, 0, 1, 0, 0, 1, 0, 1, 1, 0, 1, 1, 0, 0, 0, 1, 0, 1, 1, 1, 0, 0, 0, 0, 0, 0, 0, 0, 0, 0, 1, 1, 0, 1, 1, 1, 0, 1, 1, 0, 1, 0, 1, 1, 0, 1, 0, 1, 0, 0, 0, 1, 0, 0, 0, 1, 1, 0, 0, 1, 0, 0, 0, 1, 1, 0, 0, 1, 1, 1, 0, 1, 1, 0, 0, 1, 0, 1, 1, 1, 1, 1, 0, 1, 0, 0, 0, 0, 0, 1, 0, 0, 1, 0, 1, 0, 0, 0, 0, 0, 1, 1, 0, 0, 1, 0, 0, 0, 0, 0, 0, 1, 0, 1, 0, 0, 1, 1, 0, 0, 0, 1, 0, 1, 0, 0, 1, 0, 0, 0, 1, 1, 0, 0, 0, 1, 1, 1, 0, 0, 0, 1, 0, 0, 1, 0, 0, 1, 0, 0, 0, 0, 0, 0, 1, 0, 1, 1, 0, 0, 0, 0, 0, 0, 0, 0, 0, 1, 1, 0, 1, 1, 0, 0, 1, 1, 0, 0, 0, 1, 1, 1, 1, 1, 1, 1, 0, 1, 0, 0, 1, 1, 0, 0, 1, 1, 1, 0, 0, 0, 0, 0, 0, 0, 0, 1, 0, 0, 1, 1, 0, 0, 0, 1, 1, 1, 1, 0, 0, 1, 0, 0, 0, 0, 0, 0, 1, 1, 0, 0, 0, 1, 0, 0, 0, 0, 0, 1, 1, 0, 0, 0, 0, 0, 0, 1, 0, 0, 1, 0, 0, 0, 1, 1, 1, 1, 0, 1, 0, 1, 0, 1, 0, 0, 1, 0, 0, 1, 0, 1, 1, 1, 0, 1, 1, 1, 0, 0, 0, 1, 1, 1, 0, 1, 1, 1, 0, 1, 0, 0, 0, 0, 1, 1, 1, 1, 0, 0, 0, 1, 0, 0, 0, 1, 0, 0, 1, 1, 1, 0, 1, 0, 0, 0, 0, 1, 1, 1, 1, 0, 0, 1, 1, 1, 1, 0, 1, 1, 0, 0, 1, 0, 0, 0, 0, 0, 1, 0, 0, 0, 0, 0, 0, 0, 0, 0, 1, 0, 0, 0, 1, 0, 1, 0, 1, 1, 0, 0, 0, 0, 0, 1, 1, 0, 1, 0, 1, 0, 1, 0, 0, 0, 1, 0, 1, 0, 1, 1, 0, 1, 1, 1, 1, 0, 1, 0, 1, 1, 0, 1, 1, 1, 1, 1, 0, 0, 0, 0, 0, 0, 1, 0, 1, 1, 0, 1, 0, 0, 0, 1, 0, 0, 0, 1, 0, 0, 0, 0, 0, 0, 0, 1, 0, 1, 1, 0, 1, 0, 1, 0, 0, 0, 0, 0, 1, 0, 1, 0, 1, 0, 1, 0, 1, 1, 1, 0, 1, 0, 0, 0, 1, 0, 0, 0, 1, 1, 0, 0, 1, 1, 0, 0, 0, 1, 0, 0, 1, 0, 0, 0, 1, 1, 0, 1, 1, 0, 1, 0, 0, 0, 0, 1, 0, 1, 0, 1, 0, 0, 0, 1, 0, 1, 0, 0, 1, 0, 0, 1, 1, 1, 1, 0, 0, 1, 1, 1, 0, 1, 0, 0, 0, 0, 1, 0, 0, 0, 1, 1, 1, 0, 0, 0, 0, 0, 0, 1, 0, 0, 0, 1, 1, 1, 1, 0, 0, 1, 1, 1, 0, 1, 0, 1, 1, 1, 1, 1, 1, 1, 1, 1, 0, 0, 1, 0, 1, 0, 0, 0, 0, 1, 1, 1, 1, 0, 1, 0, 1, 1, 0, 0, 1, 1, 0, 0, 0, 0, 1, 0, 1, 1, 0, 1, 0, 0, 0, 0, 0, 1, 1, 0, 1, 1, 0, 0, 1, 1, 1, 0, 0, 1, 1, 0, 1, 0, 1, 1, 0, 0, 0, 0, 1, 1, 1, 0, 0, 1, 0, 0, 1, 1, 0, 0, 1, 1, 0, 0, 1, 0, 1, 0, 0, 0, 1, 1, 1, 1, 1, 0, 1, 1, 0, 0, 1, 0, 1, 1, 0, 1, 1, 1, 1, 0, 0, 1, 0, 0, 0, 0, 0, 1, 0, 0, 1, 0, 0, 1, 0, 0, 1, 1, 1, 1, 0, 0, 0, 1, 0, 0, 1, 0, 1, 1, 1, 0, 0, 1, 0, 1, 1, 0, 0, 1, 0, 0, 0, 0, 0, 0, 1, 1, 0, 0, 1, 0, 0, 1, 0, 0, 0, 1, 0, 0, 0, 1, 1, 0, 0, 0, 1, 0, 1, 0, 1, 0, 0, 1, 1, 0, 0, 1, 1, 0, 1, 0, 1, 1, 1, 0, 0, 1, 0, 1, 0, 0, 1, 0, 0, 0, 1, 0, 0, 0, 0, 1, 0, 1, 0, 0, 1, 0, 0, 0, 0, 1, 1, 0, 0, 0, 1, 1, 0, 0, 0, 1, 1, 0, 1, 1, 0, 0, 0, 1, 1, 1, 1, 0, 0, 0, 0, 1, 0, 0, 1, 1, 0, 0, 1, 0, 1, 0, 0, 0, 0, 0, 0, 1, 1, 0, 1, 0, 0, 1, 1, 0, 0, 0, 1, 1, 0, 1, 1, 0, 1, 0, 1, 0, 1, 1, 0, 0, 0, 0, 0, 1, 0, 1, 0, 0, 0, 0, 0, 1, 0, 0, 0, 1, 0, 1, 0, 0, 0, 0, 1, 0, 0, 1, 0, 1, 1, 1, 0, 0, 0, 0, 0, 0, 0, 0, 1, 1, 1, 0, 1, 0, 0, 1, 1, 0, 0, 1, 1, 1, 1, 1, 0, 1, 1, 0, 1, 0, 0, 0, 0, 0, 1, 0, 0, 1, 1, 1, 0, 0, 0, 0, 1, 1, 0, 1, 1, 1, 1, 0, 1, 1, 1, 0, 1, 0, 0, 0, 0, 0, 1, 1, 1, 1, 0, 0, 0, 0, 1, 1, 1, 0, 0, 1, 0, 0, 1, 0, 1, 0, 1, 0, 1, 0, 0, 0, 0, 1, 1, 0, 1, 0, 1, 1, 0, 0, 1, 1, 1, 1, 0, 0, 0, 0, 0, 0, 1, 1, 1, 0, 0, 1, 1, 0, 0, 0, 0, 1, 0, 1, 1, 0, 0, 1, 1, 0, 0, 0, 0, 0, 0, 1, 0, 0, 1, 0, 1, 1, 1, 1, 1, 0, 0, 0, 1, 0, 0, 1, 1, 0, 0, 1, 1, 0, 1, 0, 1, 1, 1, 1, 1, 1, 1, 1, 0, 0, 1, 0, 0, 1, 1, 0, 0, 1, 1, 0, 1, 0, 0, 1, 1, 0, 1, 1, 0, 0, 1, 0, 1, 0, 1, 0, 0, 0, 1, 1, 0, 1, 0, 0, 1, 1, 1, 1, 1, 1, 0, 0, 1, 0, 1, 0, 1, 0, 0, 0, 1, 1, 1, 1, 1, 0, 1, 0, 1, 1, 0, 0, 1, 1, 1, 1, 0, 1, 0, 1, 1, 0, 1, 0, 0, 0, 1, 1, 0, 1, 0, 0, 0, 0, 1, 0, 0, 0, 0, 1, 0, 1, 1, 0, 0, 1, 0, 0, 0, 1, 1, 0, 0, 0, 0, 0, 0, 0, 1, 0, 0, 1, 1, 0, 1, 0, 1, 1, 1, 0, 1, 0, 1, 0, 1, 1, 1, 0, 0, 0, 0, 1, 1, 1, 0, 1, 1, 1, 1, 1, 1, 0, 1, 0, 1, 0, 0, 1, 0, 1, 0, 1, 1, 1, 0, 1, 1, 0, 1, 1, 0, 0, 0, 1, 1, 0, 1, 1, 0, 0, 1, 0, 1, 0, 0, 1, 0, 0, 1, 1, 0, 1, 0, 1, 1, 1, 0, 0, 0, 1, 0, 0, 1, 1, 0, 0, 1, 1, 1, 0, 1, 0, 0, 0, 0, 1, 1, 0, 0, 0, 0, 1, 0, 1, 1, 0]\n"
     ]
    }
   ],
   "source": [
    "pred = []\n",
    "for index in range(probT1.size):\n",
    "    if((probT1[index]*pNotSpam) > (probT0[index]*pSpam)):\n",
    "        pred.append(1)\n",
    "    else:\n",
    "        pred.append(0)\n",
    "print(pred)      "
   ]
  },
  {
   "cell_type": "code",
   "execution_count": 122,
   "metadata": {},
   "outputs": [
    {
     "data": {
      "text/plain": [
       "(390, 611, 225, 293)"
      ]
     },
     "execution_count": 122,
     "metadata": {},
     "output_type": "execute_result"
    }
   ],
   "source": [
    "tpTest = 0\n",
    "tnTest = 0\n",
    "fpTest = 0\n",
    "fnTest = 0\n",
    "\n",
    "for i in range(y_test.size):\n",
    "    if (pred[i]==0 and y_test.T[0][i] == 0):\n",
    "        tnTest = tnTest+1\n",
    "    elif (pred[i]==1 and y_test.T[0][i] == 1):\n",
    "        tpTest = tpTest+1\n",
    "    elif (pred[i]==0 and y_test.T[0][i] == 1):\n",
    "        fpTest = fpTest+1\n",
    "    elif (pred[i]==1 and y_test.T[0][i] == 0):\n",
    "        fnTest = fnTest+1\n",
    "tpTest, tnTest, fpTest, fnTest"
   ]
  },
  {
   "cell_type": "code",
   "execution_count": 123,
   "metadata": {},
   "outputs": [
    {
     "name": "stdout",
     "output_type": "stream",
     "text": [
      "0.6589861751152074 0.5710102489019033 0.6341463414634146 0.6009244992295839\n"
     ]
    }
   ],
   "source": [
    "accuracyTest = (tpTest+tnTest)/(tpTest+tnTest+fpTest+fnTest)\n",
    "recallTest = (tpTest)/(tpTest+fnTest)\n",
    "precisionTest = (tpTest)/(tpTest+fpTest)\n",
    "fMeasureTest = (2*recallTest*precisionTest)/(recallTest+precisionTest)\n",
    "print(accuracyTest, recallTest, precisionTest, fMeasureTest)"
   ]
  },
  {
   "cell_type": "code",
   "execution_count": null,
   "metadata": {},
   "outputs": [],
   "source": []
  },
  {
   "cell_type": "code",
   "execution_count": 104,
   "metadata": {},
   "outputs": [],
   "source": [
    "from sklearn.naive_bayes import GaussianNB"
   ]
  },
  {
   "cell_type": "code",
   "execution_count": 105,
   "metadata": {},
   "outputs": [],
   "source": [
    "gnb = GaussianNB()"
   ]
  },
  {
   "cell_type": "code",
   "execution_count": 106,
   "metadata": {},
   "outputs": [
    {
     "name": "stderr",
     "output_type": "stream",
     "text": [
      "/opt/anaconda3/lib/python3.7/site-packages/sklearn/utils/validation.py:724: DataConversionWarning: A column-vector y was passed when a 1d array was expected. Please change the shape of y to (n_samples, ), for example using ravel().\n",
      "  y = column_or_1d(y, warn=True)\n"
     ]
    }
   ],
   "source": [
    "y_pred = gnb.fit(X_train, y_train).predict(X_test)"
   ]
  },
  {
   "cell_type": "code",
   "execution_count": 107,
   "metadata": {},
   "outputs": [
    {
     "name": "stdout",
     "output_type": "stream",
     "text": [
      "[1 1 0 ... 1 0 1]\n"
     ]
    }
   ],
   "source": [
    "print(y_pred)"
   ]
  },
  {
   "cell_type": "code",
   "execution_count": 108,
   "metadata": {},
   "outputs": [
    {
     "data": {
      "text/plain": [
       "array([[661, 243],\n",
       "       [ 36, 579]])"
      ]
     },
     "execution_count": 108,
     "metadata": {},
     "output_type": "execute_result"
    }
   ],
   "source": [
    "from sklearn.metrics import confusion_matrix\n",
    "al = confusion_matrix(y_test, y_pred)\n",
    "al"
   ]
  },
  {
   "cell_type": "code",
   "execution_count": 109,
   "metadata": {},
   "outputs": [
    {
     "name": "stdout",
     "output_type": "stream",
     "text": [
      "0.8163265306122449 0.9414634146341463 0.7043795620437956 0.8058455114822546\n"
     ]
    }
   ],
   "source": [
    "tn1 = al[0][0]\n",
    "tp1 = al[1][1]\n",
    "fn1 = al[1][0]\n",
    "fp1 = al[0][1]\n",
    "accuracy1 = (tp1+tn1)/(tp1+tn1+fp1+fn1)\n",
    "recall1 = (tp1)/(tp1+fn1)\n",
    "precision1 = (tp1)/(tp1+fp1)\n",
    "fMeasure1 = (2*recall1*precision1)/(recall1+precision1)\n",
    "print(accuracy1, recall1, precision1, fMeasure1)"
   ]
  },
  {
   "cell_type": "code",
   "execution_count": null,
   "metadata": {},
   "outputs": [],
   "source": []
  },
  {
   "cell_type": "code",
   "execution_count": null,
   "metadata": {},
   "outputs": [],
   "source": []
  }
 ],
 "metadata": {
  "kernelspec": {
   "display_name": "Python 3",
   "language": "python",
   "name": "python3"
  },
  "language_info": {
   "codemirror_mode": {
    "name": "ipython",
    "version": 3
   },
   "file_extension": ".py",
   "mimetype": "text/x-python",
   "name": "python",
   "nbconvert_exporter": "python",
   "pygments_lexer": "ipython3",
   "version": "3.7.4"
  }
 },
 "nbformat": 4,
 "nbformat_minor": 2
}
